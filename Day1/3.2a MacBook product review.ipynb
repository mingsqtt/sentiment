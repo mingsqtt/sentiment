{
 "cells": [
  {
   "cell_type": "markdown",
   "metadata": {},
   "source": [
    "### Entities & Aspect Mining : An example\n",
    "\n",
    "This mini workshop will illustrate two tasks. The first is to illustrate the extraction of triples relationships. This is done considering only simple CFG. It is similar to what it done in Open Calais in https://permid.org/onecalaisViewer, and is very useful in extracting granular information from a document. The second is the extraction of 'sentiment-related' words on the aspects to generate their aspects scores through a heuristic method. \n"
   ]
  },
  {
   "cell_type": "code",
   "execution_count": 1,
   "metadata": {},
   "outputs": [
    {
     "data": {
      "text/html": [
       "        <script type=\"text/javascript\">\n",
       "        window.PlotlyConfig = {MathJaxConfig: 'local'};\n",
       "        if (window.MathJax) {MathJax.Hub.Config({SVG: {font: \"STIX-Web\"}});}\n",
       "        if (typeof require !== 'undefined') {\n",
       "        require.undef(\"plotly\");\n",
       "        requirejs.config({\n",
       "            paths: {\n",
       "                'plotly': ['https://cdn.plot.ly/plotly-latest.min']\n",
       "            }\n",
       "        });\n",
       "        require(['plotly'], function(Plotly) {\n",
       "            window._Plotly = Plotly;\n",
       "        });\n",
       "        }\n",
       "        </script>\n",
       "        "
      ]
     },
     "metadata": {},
     "output_type": "display_data"
    }
   ],
   "source": [
    "# Import packages\n",
    "import spacy\n",
    "import numpy as np\n",
    "from spacy import displacy\n",
    "import pickle as pk\n",
    "from os import getcwd, chdir\n",
    "import pandas as pd\n",
    "import json\n",
    "\n",
    "import cufflinks  # for visualisation\n",
    "from plotly.offline import iplot\n",
    "cufflinks.go_offline()\n",
    "cufflinks.set_config_file(world_readable=True, theme='pearl')\n",
    "\n",
    "from lmpylib.core import *"
   ]
  },
  {
   "cell_type": "markdown",
   "metadata": {},
   "source": [
    "## First Task : extraction of triples dependencies\n",
    "\n",
    "The reviews are extracted from Yelp for a Chinese restaurant which was previously scrapped from their website (only 20 of them for illustration)."
   ]
  },
  {
   "cell_type": "code",
   "execution_count": 2,
   "metadata": {},
   "outputs": [],
   "source": [
    "chdir(\"../pratical\")"
   ]
  },
  {
   "cell_type": "code",
   "execution_count": 63,
   "metadata": {},
   "outputs": [
    {
     "name": "stdout",
     "output_type": "stream",
     "text": [
      "225\n"
     ]
    },
    {
     "data": {
      "text/plain": [
       "array(['The new updated MacBook Pro 13\\x94 2020 with scissor switch is out!',\n",
       "       'Nice! Finally better keyboards.',\n",
       "       '2.0GHz version is Intel 10th Gen~\\nwhile base model is 8th Gen~\\nLimit 5 per customer.\\n\\ninteresting. now is the wait for 10th Gen for 16\"~',\n",
       "       'Yes you are right. SG$800 more for a newer, faster processor, 2x faster RAM, double the storage and 2 additional TB3 ports. I think it\\x92s worth it.',\n",
       "       'Education price is attractive\\n\\nPosted from Hell B18 HardwareZone Forums app',\n",
       "       'It is cheaper than before with upgraded spec.\\nBase model with two ports all get cheaper. Same price you can double storage than before.\\n4 ports model you get double storage and double ram than befor.',\n",
       "       'yup! the estimates were correct. the $2699 model comes with 512gb ssd and 16gb ram. before this price only got you 256gb ssd and 8gb ram. Great savings across the board. Plus you get new processors and a decent keyboard.',\n",
       "       'Faster RAM and storage too.',\n",
       "       'Yes correct more worth it to get that.',\n",
       "       'Sad to see that they didn\\x92t size up the screen to 14 inches, oh wells...',\n",
       "       'Where is the 14”?\\nBut this time round the mbp quite cheap lay.\\nWhen I bought my tb 2016 13”, spent over 3k plus for 16gb n 512ssd.',\n",
       "       'Website laggy...',\n",
       "       'Yes MacBook Pro are getting cheaper. This is similar to 2015 MacBook Pro which it is the lowest price point to get a MacBook Pro that time. After 2016 redesign, price increases again. now in the 4th year of the redesign, price becomes another new Low.\\nI spent $2780 for my MBP 2017 also with 512gb storage and 16GB. 4 ports Touch Bar version.\\nNow only cost $2549.',\n",
       "       'It\\'s cheaper now cos Apple is preparing for new design with Mini LED later this year.\\n14\" and 16\" and and 12\" with ARM chip next year.',\n",
       "       'Likely to have a new redesign and with ARM chip.\\nInitially my MacBook Pro 2017 is facing some issues with ghosting problem on the display.\\nSurprisingly, now it is solved by itself.\\nI sent in to Apple authorised dealer to diagnose but they said no issue can be found. However, if I were to replace the display, it costed $1k++ with display replacement fee and diagnosis fee.\\nLucky I did not opt for it.',\n",
       "       'sweet! wait for thermal tests before deciding to get or not',\n",
       "       \"Nice to see that the price is cheaper comparatively since it's the 5th year of roughly the same redesign. But no 14 inch display\",\n",
       "       'its cheaper because apple has finally decided to double the storage and ram. thats it. you are paying $600 less than before. it was quite ridiculous that some 4tb port models in 2016- 2018 started at 128gb and costs $300 to upgrade to 256 and another 300 for 512. Ram is also $300 more for 8 - 16gb upgrade. If you checked the 2019 13 inch macbook pros. it costs 3.2k to get 512gb ssd and 16gb ram. now the same variant is 2699 sgd.',\n",
       "       '16gb RAM and 512GB SSD\\nWorth it lor',\n",
       "       'Yes. It is ridiculously cheaper than before.'], dtype=object)"
      ]
     },
     "execution_count": 63,
     "metadata": {},
     "output_type": "execute_result"
    }
   ],
   "source": [
    "df_reviews = pd.read_csv('hardwarezone-posts.csv')\n",
    "df_reviews.head(3)\n",
    "posts = df_reviews.loc[df_reviews[\"prod\"] == \"MBPro 2020\", \"text\"].values\n",
    "print(len(posts))\n",
    "posts[:20]"
   ]
  },
  {
   "cell_type": "markdown",
   "metadata": {},
   "source": [
    "As learnt from the lectures, the aspects need to be categorised and 'targeted' with the frequency approach. We list down some of the more often used phrases associate with each aspect. This is in a way a heuristic method."
   ]
  },
  {
   "cell_type": "code",
   "execution_count": 25,
   "metadata": {},
   "outputs": [],
   "source": [
    "nlp = spacy.load('en_core_web_lg')"
   ]
  },
  {
   "cell_type": "code",
   "execution_count": 64,
   "metadata": {},
   "outputs": [
    {
     "name": "stdout",
     "output_type": "stream",
     "text": [
      "It is cheaper than before with upgraded spec.\n",
      "Base model with two ports all get cheaper. Same price you can double storage than before.\n",
      "4 ports model you get double storage and double ram than befor.\n",
      "***************************** \n",
      "\n",
      "[0] It is cheaper than before with upgraded spec.\n",
      " \n",
      "\n",
      "It nsubj is AUX []\n",
      "is ROOT is AUX [It, cheaper, with, .]\n",
      "cheaper acomp is AUX [than]\n",
      "than prep cheaper ADJ [before]\n",
      "before pcomp than SCONJ []\n",
      "with prep is AUX [spec]\n",
      "upgraded amod spec NOUN []\n",
      "spec pobj with ADP [upgraded]\n",
      ". punct is AUX [\n",
      "]\n",
      "\n",
      "  . PUNCT []\n",
      "\n",
      "\n",
      "\n",
      "[1] Base model with two ports all get cheaper. \n",
      "\n",
      "Base compound model NOUN []\n",
      "model nsubj get VERB [Base, with]\n",
      "with prep model NOUN [ports]\n",
      "two nummod ports NOUN []\n",
      "ports pobj with ADP [two, all]\n",
      "all appos ports NOUN []\n",
      "get ROOT get VERB [model, cheaper, .]\n",
      "cheaper acomp get VERB []\n",
      ". punct get VERB []\n",
      "\n",
      "\n",
      "\n",
      "[2] Same price you can double storage than before.\n",
      " \n",
      "\n",
      "Same amod price NOUN []\n",
      "price ROOT price NOUN [Same, double, storage]\n",
      "you nsubj double VERB []\n",
      "can aux double VERB []\n",
      "double relcl price NOUN [you, can]\n",
      "storage appos price NOUN [than, .]\n",
      "than prep storage NOUN [before]\n",
      "before pcomp than SCONJ []\n",
      ". punct storage NOUN [\n",
      "]\n",
      "\n",
      "  . PUNCT []\n",
      "\n",
      "\n",
      "\n",
      "[3] 4 ports model \n",
      "\n",
      "4 nummod ports NOUN []\n",
      "ports compound model NOUN [4]\n",
      "model ROOT model NOUN [ports]\n",
      "\n",
      "\n",
      "\n",
      "[4] you get double storage and double ram than befor. \n",
      "\n",
      "you nsubj get VERB []\n",
      "get ROOT get VERB [you, storage, than, .]\n",
      "double amod storage NOUN []\n",
      "storage dobj get VERB [double, and, ram]\n",
      "and cc storage NOUN []\n",
      "double amod ram NOUN []\n",
      "ram conj storage NOUN [double]\n",
      "than prep get VERB [befor]\n",
      "befor pobj than SCONJ []\n",
      ". punct get VERB []\n",
      "\n",
      "\n",
      "\n"
     ]
    }
   ],
   "source": [
    "eg=5\n",
    "print (posts[eg])\n",
    "print (\"*****************************\", \"\\n\")\n",
    "doc = nlp(posts[eg])  # 2nd sentence\n",
    "for s, sent in enumerate(doc.sents):\n",
    "    print (\"[{}]\".format(s), sent, \"\\n\")\n",
    "    for token in sent:\n",
    "        print(token.text, token.dep_, token.head.text, token.head.pos_,\n",
    "              [child for child in token.children])\n",
    "    print(\"\\n\\n\")\n"
   ]
  },
  {
   "cell_type": "code",
   "execution_count": 56,
   "metadata": {},
   "outputs": [
    {
     "data": {
      "text/html": [
       "<span class=\"tex2jax_ignore\"><svg xmlns=\"http://www.w3.org/2000/svg\" xmlns:xlink=\"http://www.w3.org/1999/xlink\" xml:lang=\"en\" id=\"191eb41cb33a4591a23f632f9c628137-0\" class=\"displacy\" width=\"1130\" height=\"377.0\" direction=\"ltr\" style=\"max-width: none; height: 377.0px; color: #000000; background: #ffffff; font-family: Arial; direction: ltr\">\n",
       "<text class=\"displacy-token\" fill=\"currentColor\" text-anchor=\"middle\" y=\"287.0\">\n",
       "    <tspan class=\"displacy-word\" fill=\"currentColor\" x=\"50\">Same</tspan>\n",
       "    <tspan class=\"displacy-tag\" dy=\"2em\" fill=\"currentColor\" x=\"50\">ADJ</tspan>\n",
       "</text>\n",
       "\n",
       "<text class=\"displacy-token\" fill=\"currentColor\" text-anchor=\"middle\" y=\"287.0\">\n",
       "    <tspan class=\"displacy-word\" fill=\"currentColor\" x=\"170\">price</tspan>\n",
       "    <tspan class=\"displacy-tag\" dy=\"2em\" fill=\"currentColor\" x=\"170\">NOUN</tspan>\n",
       "</text>\n",
       "\n",
       "<text class=\"displacy-token\" fill=\"currentColor\" text-anchor=\"middle\" y=\"287.0\">\n",
       "    <tspan class=\"displacy-word\" fill=\"currentColor\" x=\"290\">you</tspan>\n",
       "    <tspan class=\"displacy-tag\" dy=\"2em\" fill=\"currentColor\" x=\"290\">PRON</tspan>\n",
       "</text>\n",
       "\n",
       "<text class=\"displacy-token\" fill=\"currentColor\" text-anchor=\"middle\" y=\"287.0\">\n",
       "    <tspan class=\"displacy-word\" fill=\"currentColor\" x=\"410\">can</tspan>\n",
       "    <tspan class=\"displacy-tag\" dy=\"2em\" fill=\"currentColor\" x=\"410\">VERB</tspan>\n",
       "</text>\n",
       "\n",
       "<text class=\"displacy-token\" fill=\"currentColor\" text-anchor=\"middle\" y=\"287.0\">\n",
       "    <tspan class=\"displacy-word\" fill=\"currentColor\" x=\"530\">double</tspan>\n",
       "    <tspan class=\"displacy-tag\" dy=\"2em\" fill=\"currentColor\" x=\"530\">VERB</tspan>\n",
       "</text>\n",
       "\n",
       "<text class=\"displacy-token\" fill=\"currentColor\" text-anchor=\"middle\" y=\"287.0\">\n",
       "    <tspan class=\"displacy-word\" fill=\"currentColor\" x=\"650\">storage</tspan>\n",
       "    <tspan class=\"displacy-tag\" dy=\"2em\" fill=\"currentColor\" x=\"650\">NOUN</tspan>\n",
       "</text>\n",
       "\n",
       "<text class=\"displacy-token\" fill=\"currentColor\" text-anchor=\"middle\" y=\"287.0\">\n",
       "    <tspan class=\"displacy-word\" fill=\"currentColor\" x=\"770\">than</tspan>\n",
       "    <tspan class=\"displacy-tag\" dy=\"2em\" fill=\"currentColor\" x=\"770\">SCONJ</tspan>\n",
       "</text>\n",
       "\n",
       "<text class=\"displacy-token\" fill=\"currentColor\" text-anchor=\"middle\" y=\"287.0\">\n",
       "    <tspan class=\"displacy-word\" fill=\"currentColor\" x=\"890\">before.</tspan>\n",
       "    <tspan class=\"displacy-tag\" dy=\"2em\" fill=\"currentColor\" x=\"890\">ADV</tspan>\n",
       "</text>\n",
       "\n",
       "<text class=\"displacy-token\" fill=\"currentColor\" text-anchor=\"middle\" y=\"287.0\">\n",
       "    <tspan class=\"displacy-word\" fill=\"currentColor\" x=\"1010\">\n",
       "</tspan>\n",
       "    <tspan class=\"displacy-tag\" dy=\"2em\" fill=\"currentColor\" x=\"1010\">SPACE</tspan>\n",
       "</text>\n",
       "\n",
       "<g class=\"displacy-arrow\">\n",
       "    <path class=\"displacy-arc\" id=\"arrow-191eb41cb33a4591a23f632f9c628137-0-0\" stroke-width=\"2px\" d=\"M70,242.0 C70,182.0 155.0,182.0 155.0,242.0\" fill=\"none\" stroke=\"currentColor\"/>\n",
       "    <text dy=\"1.25em\" style=\"font-size: 0.8em; letter-spacing: 1px\">\n",
       "        <textPath xlink:href=\"#arrow-191eb41cb33a4591a23f632f9c628137-0-0\" class=\"displacy-label\" startOffset=\"50%\" side=\"left\" fill=\"currentColor\" text-anchor=\"middle\">amod</textPath>\n",
       "    </text>\n",
       "    <path class=\"displacy-arrowhead\" d=\"M70,244.0 L62,232.0 78,232.0\" fill=\"currentColor\"/>\n",
       "</g>\n",
       "\n",
       "<g class=\"displacy-arrow\">\n",
       "    <path class=\"displacy-arc\" id=\"arrow-191eb41cb33a4591a23f632f9c628137-0-1\" stroke-width=\"2px\" d=\"M310,242.0 C310,122.0 520.0,122.0 520.0,242.0\" fill=\"none\" stroke=\"currentColor\"/>\n",
       "    <text dy=\"1.25em\" style=\"font-size: 0.8em; letter-spacing: 1px\">\n",
       "        <textPath xlink:href=\"#arrow-191eb41cb33a4591a23f632f9c628137-0-1\" class=\"displacy-label\" startOffset=\"50%\" side=\"left\" fill=\"currentColor\" text-anchor=\"middle\">nsubj</textPath>\n",
       "    </text>\n",
       "    <path class=\"displacy-arrowhead\" d=\"M310,244.0 L302,232.0 318,232.0\" fill=\"currentColor\"/>\n",
       "</g>\n",
       "\n",
       "<g class=\"displacy-arrow\">\n",
       "    <path class=\"displacy-arc\" id=\"arrow-191eb41cb33a4591a23f632f9c628137-0-2\" stroke-width=\"2px\" d=\"M430,242.0 C430,182.0 515.0,182.0 515.0,242.0\" fill=\"none\" stroke=\"currentColor\"/>\n",
       "    <text dy=\"1.25em\" style=\"font-size: 0.8em; letter-spacing: 1px\">\n",
       "        <textPath xlink:href=\"#arrow-191eb41cb33a4591a23f632f9c628137-0-2\" class=\"displacy-label\" startOffset=\"50%\" side=\"left\" fill=\"currentColor\" text-anchor=\"middle\">aux</textPath>\n",
       "    </text>\n",
       "    <path class=\"displacy-arrowhead\" d=\"M430,244.0 L422,232.0 438,232.0\" fill=\"currentColor\"/>\n",
       "</g>\n",
       "\n",
       "<g class=\"displacy-arrow\">\n",
       "    <path class=\"displacy-arc\" id=\"arrow-191eb41cb33a4591a23f632f9c628137-0-3\" stroke-width=\"2px\" d=\"M190,242.0 C190,62.0 525.0,62.0 525.0,242.0\" fill=\"none\" stroke=\"currentColor\"/>\n",
       "    <text dy=\"1.25em\" style=\"font-size: 0.8em; letter-spacing: 1px\">\n",
       "        <textPath xlink:href=\"#arrow-191eb41cb33a4591a23f632f9c628137-0-3\" class=\"displacy-label\" startOffset=\"50%\" side=\"left\" fill=\"currentColor\" text-anchor=\"middle\">relcl</textPath>\n",
       "    </text>\n",
       "    <path class=\"displacy-arrowhead\" d=\"M525.0,244.0 L533.0,232.0 517.0,232.0\" fill=\"currentColor\"/>\n",
       "</g>\n",
       "\n",
       "<g class=\"displacy-arrow\">\n",
       "    <path class=\"displacy-arc\" id=\"arrow-191eb41cb33a4591a23f632f9c628137-0-4\" stroke-width=\"2px\" d=\"M190,242.0 C190,2.0 650.0,2.0 650.0,242.0\" fill=\"none\" stroke=\"currentColor\"/>\n",
       "    <text dy=\"1.25em\" style=\"font-size: 0.8em; letter-spacing: 1px\">\n",
       "        <textPath xlink:href=\"#arrow-191eb41cb33a4591a23f632f9c628137-0-4\" class=\"displacy-label\" startOffset=\"50%\" side=\"left\" fill=\"currentColor\" text-anchor=\"middle\">appos</textPath>\n",
       "    </text>\n",
       "    <path class=\"displacy-arrowhead\" d=\"M650.0,244.0 L658.0,232.0 642.0,232.0\" fill=\"currentColor\"/>\n",
       "</g>\n",
       "\n",
       "<g class=\"displacy-arrow\">\n",
       "    <path class=\"displacy-arc\" id=\"arrow-191eb41cb33a4591a23f632f9c628137-0-5\" stroke-width=\"2px\" d=\"M670,242.0 C670,182.0 755.0,182.0 755.0,242.0\" fill=\"none\" stroke=\"currentColor\"/>\n",
       "    <text dy=\"1.25em\" style=\"font-size: 0.8em; letter-spacing: 1px\">\n",
       "        <textPath xlink:href=\"#arrow-191eb41cb33a4591a23f632f9c628137-0-5\" class=\"displacy-label\" startOffset=\"50%\" side=\"left\" fill=\"currentColor\" text-anchor=\"middle\">prep</textPath>\n",
       "    </text>\n",
       "    <path class=\"displacy-arrowhead\" d=\"M755.0,244.0 L763.0,232.0 747.0,232.0\" fill=\"currentColor\"/>\n",
       "</g>\n",
       "\n",
       "<g class=\"displacy-arrow\">\n",
       "    <path class=\"displacy-arc\" id=\"arrow-191eb41cb33a4591a23f632f9c628137-0-6\" stroke-width=\"2px\" d=\"M670,242.0 C670,122.0 880.0,122.0 880.0,242.0\" fill=\"none\" stroke=\"currentColor\"/>\n",
       "    <text dy=\"1.25em\" style=\"font-size: 0.8em; letter-spacing: 1px\">\n",
       "        <textPath xlink:href=\"#arrow-191eb41cb33a4591a23f632f9c628137-0-6\" class=\"displacy-label\" startOffset=\"50%\" side=\"left\" fill=\"currentColor\" text-anchor=\"middle\">punct</textPath>\n",
       "    </text>\n",
       "    <path class=\"displacy-arrowhead\" d=\"M880.0,244.0 L888.0,232.0 872.0,232.0\" fill=\"currentColor\"/>\n",
       "</g>\n",
       "\n",
       "<g class=\"displacy-arrow\">\n",
       "    <path class=\"displacy-arc\" id=\"arrow-191eb41cb33a4591a23f632f9c628137-0-7\" stroke-width=\"2px\" d=\"M910,242.0 C910,182.0 995.0,182.0 995.0,242.0\" fill=\"none\" stroke=\"currentColor\"/>\n",
       "    <text dy=\"1.25em\" style=\"font-size: 0.8em; letter-spacing: 1px\">\n",
       "        <textPath xlink:href=\"#arrow-191eb41cb33a4591a23f632f9c628137-0-7\" class=\"displacy-label\" startOffset=\"50%\" side=\"left\" fill=\"currentColor\" text-anchor=\"middle\"></textPath>\n",
       "    </text>\n",
       "    <path class=\"displacy-arrowhead\" d=\"M995.0,244.0 L1003.0,232.0 987.0,232.0\" fill=\"currentColor\"/>\n",
       "</g>\n",
       "</svg></span>"
      ],
      "text/plain": [
       "<IPython.core.display.HTML object>"
      ]
     },
     "metadata": {},
     "output_type": "display_data"
    }
   ],
   "source": [
    "# this is similar to the earlier workshop in Day 1.\n",
    "displacy.render(list(doc.sents)[2], style='dep', jupyter=True, options = { 'distance':120 })"
   ]
  },
  {
   "cell_type": "markdown",
   "metadata": {},
   "source": [
    "Observe the rendered dependency tree. \n",
    "Question : How many sentences are there in the review? An often assumption is in one sentence, there is one target and one entity. Let's break up the sentences and examine the breakdown. "
   ]
  },
  {
   "cell_type": "code",
   "execution_count": 65,
   "metadata": {},
   "outputs": [
    {
     "name": "stdout",
     "output_type": "stream",
     "text": [
      "Sentence 1: It is cheaper than before with upgraded spec.\n",
      "\n",
      "Sentence 2: Base model with two ports all get cheaper.\n",
      "Sentence 3: Same price you can double storage than before.\n",
      "\n",
      "Sentence 4: 4 ports model\n",
      "Sentence 5: you get double storage and double ram than befor.\n"
     ]
    }
   ],
   "source": [
    "sentt = []\n",
    "for idno, sentence in enumerate(doc.sents):\n",
    "    print ('Sentence {}:'.format(idno + 1), sentence)\n",
    "    sentt.append(sentence)"
   ]
  },
  {
   "cell_type": "markdown",
   "metadata": {},
   "source": [
    "Let's look at the breakdown of the first sentence in detail. In this sentence, where is the root of the sentence, where everything is joined together? However, it is possible that sometimes due to the sentence structure it is open there is no root."
   ]
  },
  {
   "cell_type": "code",
   "execution_count": 59,
   "metadata": {},
   "outputs": [
    {
     "name": "stdout",
     "output_type": "stream",
     "text": [
      "Input sentence is: Base model with two ports all get cheaper.\n",
      "('Base', 'compound', '---> ', 'model')\n",
      "('model', 'nsubj', '---> ', 'get')\n",
      "('with', 'prep', '---> ', 'model')\n",
      "('two', 'nummod', '---> ', 'ports')\n",
      "('ports', 'pobj', '---> ', 'with')\n",
      "('all', 'appos', '---> ', 'ports')\n",
      "('get', 'ROOT', '---> ', 'get')\n",
      "('cheaper', 'acomp', '---> ', 'get')\n",
      "('.', 'punct', '---> ', 'get')\n",
      "The root or compis :[('Base', 'compound', '---> ', 'model'), ('get', 'ROOT', '---> ', 'get'), ('cheaper', 'acomp', '---> ', 'get')]\n"
     ]
    }
   ],
   "source": [
    "def getRoot(sentence):\n",
    "    depy=[]\n",
    "    print (\"Input sentence is: \" + str(sentence))\n",
    "    for tok in sentence:\n",
    "        dep =  (tok.text, tok.dep_, \"---> \", tok.head.text)\n",
    "        print (dep)\n",
    "        depy.append(dep)\n",
    "    root = list(filter(lambda x : x[1]==\"ROOT\" or x[1].find(\"comp\")!=-1, depy))\n",
    "    #root = list(filter(lambda x : x[1]==\"VP\", depy))\n",
    "    if len(root) == 0 : return 999\n",
    "    return root\n",
    "  #  print (possible_subject, possible_subject.dep_, possible_subject.head.pos_)\n",
    "  #  if possible_subject.dep == \"nsubj\" and possible_subject.head.pos == \"VERB\":\n",
    "  #      verbs.add(possible_subject.head)\n",
    "\n",
    "root = getRoot(sentt[1])\n",
    "print (\"The root or compis :\" + str(root))"
   ]
  },
  {
   "cell_type": "markdown",
   "metadata": {},
   "source": [
    "We are now ready to extract 'triples' relationships as studied in class. The predicate can come from the root or component clauses without its own object/subject. The subject could be the first 'nsubj', and the object will come after as the 'acomp', 'dobj' etc. Putting it altogether, and do on a simple example."
   ]
  },
  {
   "cell_type": "code",
   "execution_count": 66,
   "metadata": {},
   "outputs": [
    {
     "name": "stdout",
     "output_type": "stream",
     "text": [
      "Input sentence is: It is cheaper than before with upgraded spec.\n",
      "\n",
      "('It', 'nsubj', '---> ', 'is')\n",
      "('is', 'ROOT', '---> ', 'is')\n",
      "('cheaper', 'acomp', '---> ', 'is')\n",
      "('than', 'prep', '---> ', 'cheaper')\n",
      "('before', 'pcomp', '---> ', 'than')\n",
      "('with', 'prep', '---> ', 'is')\n",
      "('upgraded', 'amod', '---> ', 'spec')\n",
      "('spec', 'pobj', '---> ', 'with')\n",
      "('.', 'punct', '---> ', 'is')\n",
      "('\\n', '', '---> ', '.')\n",
      "Grammar incorrect. No triples for: It is cheaper than before with upgraded spec.\n",
      "\n",
      "Grammar is [('It', 'nsubj', '---> ', 'is'), ('is', 'ROOT', '---> ', 'is'), ('cheaper', 'acomp', '---> ', 'is'), ('than', 'prep', '---> ', 'cheaper'), ('before', 'pcomp', '---> ', 'than'), ('with', 'prep', '---> ', 'is'), ('upgraded', 'amod', '---> ', 'spec'), ('spec', 'pobj', '---> ', 'with'), ('.', 'punct', '---> ', 'is'), ('\\n', '', '---> ', '.')]\n",
      "Triple is None \n",
      "\n",
      "Input sentence is: Base model with two ports all get cheaper.\n",
      "('Base', 'compound', '---> ', 'model')\n",
      "('model', 'nsubj', '---> ', 'get')\n",
      "('with', 'prep', '---> ', 'model')\n",
      "('two', 'nummod', '---> ', 'ports')\n",
      "('ports', 'pobj', '---> ', 'with')\n",
      "('all', 'appos', '---> ', 'ports')\n",
      "('get', 'ROOT', '---> ', 'get')\n",
      "('cheaper', 'acomp', '---> ', 'get')\n",
      "('.', 'punct', '---> ', 'get')\n",
      "Grammar incorrect. No triples for: Base model with two ports all get cheaper.\n",
      "Grammar is [('Base', 'compound', '---> ', 'model'), ('model', 'nsubj', '---> ', 'get'), ('with', 'prep', '---> ', 'model'), ('two', 'nummod', '---> ', 'ports'), ('ports', 'pobj', '---> ', 'with'), ('all', 'appos', '---> ', 'ports'), ('get', 'ROOT', '---> ', 'get'), ('cheaper', 'acomp', '---> ', 'get'), ('.', 'punct', '---> ', 'get')]\n",
      "Triple is None \n",
      "\n",
      "Input sentence is: Same price you can double storage than before.\n",
      "\n",
      "('Same', 'amod', '---> ', 'price')\n",
      "('price', 'ROOT', '---> ', 'price')\n",
      "('you', 'nsubj', '---> ', 'double')\n",
      "('can', 'aux', '---> ', 'double')\n",
      "('double', 'relcl', '---> ', 'price')\n",
      "('storage', 'appos', '---> ', 'price')\n",
      "('than', 'prep', '---> ', 'storage')\n",
      "('before', 'pcomp', '---> ', 'than')\n",
      "('.', 'punct', '---> ', 'storage')\n",
      "('\\n', '', '---> ', '.')\n",
      "Grammar incorrect. No triples for: Same price you can double storage than before.\n",
      "\n",
      "Grammar is [('Same', 'amod', '---> ', 'price'), ('price', 'ROOT', '---> ', 'price'), ('you', 'nsubj', '---> ', 'double'), ('can', 'aux', '---> ', 'double'), ('double', 'relcl', '---> ', 'price'), ('storage', 'appos', '---> ', 'price'), ('than', 'prep', '---> ', 'storage'), ('before', 'pcomp', '---> ', 'than'), ('.', 'punct', '---> ', 'storage'), ('\\n', '', '---> ', '.')]\n",
      "Triple is None \n",
      "\n",
      "Input sentence is: 4 ports model\n",
      "('4', 'nummod', '---> ', 'ports')\n",
      "('ports', 'compound', '---> ', 'model')\n",
      "('model', 'ROOT', '---> ', 'model')\n",
      "Grammar incorrect. No triples for: 4 ports model\n",
      "Grammar is [('4', 'nummod', '---> ', 'ports'), ('ports', 'compound', '---> ', 'model'), ('model', 'ROOT', '---> ', 'model')]\n",
      "Triple is None \n",
      "\n",
      "Input sentence is: you get double storage and double ram than befor.\n",
      "('you', 'nsubj', '---> ', 'get')\n",
      "('get', 'ROOT', '---> ', 'get')\n",
      "('double', 'amod', '---> ', 'storage')\n",
      "('storage', 'dobj', '---> ', 'get')\n",
      "('and', 'cc', '---> ', 'storage')\n",
      "('double', 'amod', '---> ', 'ram')\n",
      "('ram', 'conj', '---> ', 'storage')\n",
      "('than', 'prep', '---> ', 'get')\n",
      "('befor', 'pobj', '---> ', 'than')\n",
      "('.', 'punct', '---> ', 'get')\n",
      "Triple is ('you', 'get', 'storage') \n",
      "\n"
     ]
    }
   ],
   "source": [
    "def getTriples(root, sentence):\n",
    "    depy=[]\n",
    "    #print (root)\n",
    "    for tok in sentence:  # tokenize it again\n",
    "        dep =  (tok.text, tok.dep_, \"---> \", tok.head.text)\n",
    "        depy.append(dep)\n",
    "    subj = list(filter(lambda x : x[1]==\"nsubj\", depy))\n",
    "    #print (subj)\n",
    "    #obj = list(filter(lambda x : x[1]==\"dobj\" or x[1]==\"acomp\", depy))  # uncomment this for new rule\n",
    "    obj = list(filter(lambda x : x[1]==\"dobj\", depy))\n",
    "    #root = list(filter(lambda x : x[1]==\"ROOT\" , depy))\n",
    "    #print (obj)\n",
    "    #print (\"root is\" + str(root))\n",
    "    try: \n",
    "        triples = (subj[0][0], root[0][0], obj[0][0])\n",
    "    except IndexError:\n",
    "        print (\"Grammar incorrect. No triples for: \" + str(sentence)) # rules needed to be written to extract some triples\n",
    "        print (\"Grammar is \" + str(depy))\n",
    "        return None\n",
    "    return triples\n",
    "\n",
    "triples=[]\n",
    "#doing it sentence by sentence\n",
    "for sentence in sentt:\n",
    "    root = getRoot(sentence)  # obtain root of one sentence\n",
    "    if root != 999 : \n",
    "        triple = getTriples(root, sentence)  # obtain triples in that sentence\n",
    "        print (\"Triple is \" + str(triple), \"\\n\")\n",
    "   # triples.append(triple)\n"
   ]
  },
  {
   "cell_type": "markdown",
   "metadata": {},
   "source": [
    "This is a simple example of extraction triples which are relationships. We use context-free grammar and dependency relations studied in class to be able to form the relationships. We need to add more rules to other factors like noun chunks, compound objects, named entity recoginition to group together nouns for either subject/ object. Even broken grammar! Do you understand why NLP at a granular level is so difficult now? "
   ]
  },
  {
   "cell_type": "markdown",
   "metadata": {},
   "source": [
    "## Extraction of aspect and entities\n",
    "\n",
    "As taught in class, the extraction of sentiment scores on entities is often done on a semi-supervised basis. We need to do a 'mapping function' on the subjects and objects. For the case of restaurants, the usual aspects are 'food', 'service' and 'price'. "
   ]
  },
  {
   "cell_type": "code",
   "execution_count": 67,
   "metadata": {},
   "outputs": [],
   "source": [
    "# entity & aspect categories\n",
    "# From Frequency approach\n",
    "aspect = {\"performance\": [\"performance\", \"speed\", \"cpu\", \"gpu\", \"benchmark\"],\n",
    "        \"keyboard\" : [\"keyboard\", \"butterfly\", \"scissors\", \"key travel\", \"feel\"],\n",
    "        \"battary\" : [\"battary\", \"duration\"] }\n",
    "# overall : will be everything else    \n",
    "# Helper function for categorising aspects:\n",
    "def aspectCat(sentence):\n",
    "    category=[]\n",
    "    for tok in sentence:\n",
    "        tok = tok.text.lower()\n",
    "        for key, val in aspect.items():\n",
    "            if tok in val: category.append(key)\n",
    "    if len(category) == 0 : category.append(\"overall\")\n",
    "    return category"
   ]
  },
  {
   "cell_type": "markdown",
   "metadata": {},
   "source": [
    "In the next loop, the reviews are first read and dependency parsed, and then tokenized. The root words are identified in each sentence to parse the reviews. Each of the root is assumed to refer to a certain aspect. (We will discuss more about this later.)\n",
    "On parsing, a sentiment classification is run on the individual components and its aspect categorised depending on if the words belong to a category of words."
   ]
  },
  {
   "cell_type": "code",
   "execution_count": 23,
   "metadata": {},
   "outputs": [],
   "source": [
    "reviews_sent =[] \n",
    "# reloading vectoriser & svm classifier\n",
    "output_dir = \"models\\\\my_nlp_sm\"\n",
    "my_nlp = spacy.load(output_dir)\n",
    "\n",
    "sent_map = {\"positive\":1, \"neutral\":0, \"negative\":-1}\n",
    "\n",
    "def getSentiment(span):\n",
    "    res = my_nlp(span.text)\n",
    "    \n",
    "    # map score from positive -> +1; negative -> -1; neutral -> 0\n",
    "    senti = np.round(sum([sent_map[items[0]]*items[1] for items in res.cats.items()]),2)\n",
    "    \n",
    "    #print(res, senti)\n",
    "    #print(\"-------------\")\n",
    "    return (res,senti)\n",
    "\n",
    "ex=4\n",
    "doc = nlp(df_reviews[\"reviews\"][ex])\n",
    "for idx, sentence in enumerate(doc.sents):\n",
    "    #print (sentence)\n",
    "    res = getSentiment(sentence)\n",
    "    try:\n",
    "        cat = aspectCat(sentence)      \n",
    "        reviews_sent.append({\"scores\":list(res[0]), \"text\":sentence, \"category\":cat})\n",
    "    except IndexError:\n",
    "        # there are no specific aspects talked about. Just in general\n",
    "        reviews_sent.append({\"scores\":list(res[0]), \"text\":sentence, \"category\":\"overall\"})\n"
   ]
  },
  {
   "cell_type": "markdown",
   "metadata": {},
   "source": [
    "Let's do it for the whole set of reviews and do a summarisation. "
   ]
  },
  {
   "cell_type": "code",
   "execution_count": 24,
   "metadata": {},
   "outputs": [],
   "source": [
    "reviews = {}\n",
    "for i in range(len(df_reviews[\"reviews\"])):\n",
    "    doc = nlp(df_reviews[\"reviews\"][i])\n",
    "    reviews_sent =[] \n",
    "    for idx, sentence in enumerate(doc.sents):\n",
    "        #print (sentence)\n",
    "        res = getSentiment(sentence)\n",
    "        try:\n",
    "            cat = aspectCat(sentence)      \n",
    "            reviews_sent.append({\"scores\":res[1], \"text\":sentence.text, \"category\":cat})\n",
    "        except IndexError:\n",
    "            reviews_sent.append({\"scores\":res[1], \"text\":sentence.text, \"category\":\"overall\"})\n",
    "    reviews[i]=reviews_sent\n",
    "\n",
    "# summarise all reviews\n",
    "summary_scores = {\"overall\":[], \"service\":[], \"price\":[], \"food\":[]}\n",
    "# count total no of \n",
    "for item in reviews.items():\n",
    "    for ResultList in item[1]:\n",
    "        score = ResultList[\"scores\"]\n",
    "        for CatList in ResultList[\"category\"]:\n",
    "            summary_scores[CatList].append(score)\n",
    "\n",
    "# Modifying summary_scores for each category\n",
    "# print (summary_scores)\n",
    "for key, val in summary_scores.items():\n",
    "    #avg = round(np.mean(val),2)\n",
    "    pos = np.sum(np.array(val) >= 0, axis=0)\n",
    "    neg = np.sum(np.array(val) < 0, axis=0)\n",
    "    summary_scores[key]={\"pos\":pos,\"neg\": neg, \"buzz\": pos + neg}\n",
    "#summary_scores[\"total no of reviews\"]=len(reviews)\n",
    "\n",
    "df_summary = pd.DataFrame(summary_scores)\n",
    "df_summary=df_summary.transpose()"
   ]
  },
  {
   "cell_type": "code",
   "execution_count": 25,
   "metadata": {},
   "outputs": [
    {
     "data": {
      "text/html": [
       "<div>\n",
       "<style scoped>\n",
       "    .dataframe tbody tr th:only-of-type {\n",
       "        vertical-align: middle;\n",
       "    }\n",
       "\n",
       "    .dataframe tbody tr th {\n",
       "        vertical-align: top;\n",
       "    }\n",
       "\n",
       "    .dataframe thead th {\n",
       "        text-align: right;\n",
       "    }\n",
       "</style>\n",
       "<table border=\"1\" class=\"dataframe\">\n",
       "  <thead>\n",
       "    <tr style=\"text-align: right;\">\n",
       "      <th></th>\n",
       "      <th>buzz</th>\n",
       "      <th>neg</th>\n",
       "      <th>pos</th>\n",
       "    </tr>\n",
       "  </thead>\n",
       "  <tbody>\n",
       "    <tr>\n",
       "      <th>overall</th>\n",
       "      <td>34</td>\n",
       "      <td>23</td>\n",
       "      <td>11</td>\n",
       "    </tr>\n",
       "    <tr>\n",
       "      <th>service</th>\n",
       "      <td>5</td>\n",
       "      <td>5</td>\n",
       "      <td>0</td>\n",
       "    </tr>\n",
       "    <tr>\n",
       "      <th>price</th>\n",
       "      <td>3</td>\n",
       "      <td>2</td>\n",
       "      <td>1</td>\n",
       "    </tr>\n",
       "    <tr>\n",
       "      <th>food</th>\n",
       "      <td>46</td>\n",
       "      <td>43</td>\n",
       "      <td>3</td>\n",
       "    </tr>\n",
       "  </tbody>\n",
       "</table>\n",
       "</div>"
      ],
      "text/plain": [
       "         buzz  neg  pos\n",
       "overall    34   23   11\n",
       "service     5    5    0\n",
       "price       3    2    1\n",
       "food       46   43    3"
      ]
     },
     "execution_count": 25,
     "metadata": {},
     "output_type": "execute_result"
    }
   ],
   "source": [
    "df_summary"
   ]
  },
  {
   "cell_type": "code",
   "execution_count": 26,
   "metadata": {},
   "outputs": [],
   "source": [
    "df_summary.columns=[ \"buzz\", \"negative\", \"positive\"]\n",
    "df_summary[\"category\"] = df_summary.index\n",
    "df_summary[\"sentiment\"] = np.round((df_summary[\"positive\"]-df_summary[\"negative\"])/(df_summary[\"negative\"]+df_summary[\"positive\"]),2)\n"
   ]
  },
  {
   "cell_type": "code",
   "execution_count": 27,
   "metadata": {},
   "outputs": [
    {
     "data": {
      "text/html": [
       "<div>\n",
       "<style scoped>\n",
       "    .dataframe tbody tr th:only-of-type {\n",
       "        vertical-align: middle;\n",
       "    }\n",
       "\n",
       "    .dataframe tbody tr th {\n",
       "        vertical-align: top;\n",
       "    }\n",
       "\n",
       "    .dataframe thead th {\n",
       "        text-align: right;\n",
       "    }\n",
       "</style>\n",
       "<table border=\"1\" class=\"dataframe\">\n",
       "  <thead>\n",
       "    <tr style=\"text-align: right;\">\n",
       "      <th></th>\n",
       "      <th>category</th>\n",
       "      <th>sentiment</th>\n",
       "      <th>buzz</th>\n",
       "    </tr>\n",
       "  </thead>\n",
       "  <tbody>\n",
       "    <tr>\n",
       "      <th>overall</th>\n",
       "      <td>overall</td>\n",
       "      <td>-0.35</td>\n",
       "      <td>34</td>\n",
       "    </tr>\n",
       "    <tr>\n",
       "      <th>service</th>\n",
       "      <td>service</td>\n",
       "      <td>-1.00</td>\n",
       "      <td>5</td>\n",
       "    </tr>\n",
       "    <tr>\n",
       "      <th>price</th>\n",
       "      <td>price</td>\n",
       "      <td>-0.33</td>\n",
       "      <td>3</td>\n",
       "    </tr>\n",
       "    <tr>\n",
       "      <th>food</th>\n",
       "      <td>food</td>\n",
       "      <td>-0.87</td>\n",
       "      <td>46</td>\n",
       "    </tr>\n",
       "  </tbody>\n",
       "</table>\n",
       "</div>"
      ],
      "text/plain": [
       "        category  sentiment  buzz\n",
       "overall  overall      -0.35    34\n",
       "service  service      -1.00     5\n",
       "price      price      -0.33     3\n",
       "food        food      -0.87    46"
      ]
     },
     "execution_count": 27,
     "metadata": {},
     "output_type": "execute_result"
    }
   ],
   "source": [
    "df_summary = df_summary[[\"category\",\"sentiment\",\"buzz\"]]\n",
    "df_summary"
   ]
  },
  {
   "cell_type": "markdown",
   "metadata": {},
   "source": [
    "Notice most of the time, the reviewers are talking mostly about the food quality. Finally the last step to present in a visualisation manner. This is most appropriate to present in a treemap. The implementation is however quite wieldy in Python. "
   ]
  },
  {
   "cell_type": "code",
   "execution_count": 32,
   "metadata": {},
   "outputs": [
    {
     "data": {
      "text/plain": [
       "Text(0.5, 1.0, 'Sentiment Heat Map of Restaurant Aspects')"
      ]
     },
     "execution_count": 32,
     "metadata": {},
     "output_type": "execute_result"
    },
    {
     "data": {
      "image/png": "[encoded data removed]",
      "text/plain": [
       "<Figure size 864x576 with 1 Axes>"
      ]
     },
     "metadata": {
      "needs_background": "light"
     },
     "output_type": "display_data"
    }
   ],
   "source": [
    "import matplotlib\n",
    "import matplotlib.pyplot as plt\n",
    "import pandas as pd\n",
    "import squarify\n",
    "\n",
    "norm = matplotlib.colors.Normalize(vmin=min(df_summary.sentiment), vmax=max(df_summary.sentiment))\n",
    "#colors = [matplotlib.cm.Reds(norm(value)) for value in df_summary.sentiment]\n",
    "\n",
    "fig = plt.gcf()\n",
    "fig.set_size_inches(12, 8)\n",
    "\n",
    "#Use squarify to plot our data, label it and add colours. We add an alpha layer to ensure black labels show through\n",
    "#squarify.plot(label=df_summary.category,sizes=df_summary.buzz, color = colors, alpha=.5, pad =True)\n",
    "# As an exercise, use a colormap intensity to reflect the sentiment value. \n",
    "squarify.plot(label=df_summary.category,sizes=df_summary.buzz, value = df_summary.sentiment,alpha=.5, pad =True)\n",
    "plt.title(\"Sentiment Heat Map of Restaurant Aspects\",fontsize=20,fontweight=\"bold\")"
   ]
  },
  {
   "cell_type": "markdown",
   "metadata": {},
   "source": [
    "### Conclusion\n",
    "This example illustrates how the reviews are categorised and sentiment classified based on 3 aspect categories - food, price and service, with the rest as others.\n",
    "\n",
    "There are many ways to improve on it. This includes using:\n",
    " - stemming to identify mapped words\n",
    " - integrating with consistency parsing to obtain noun chunks\n",
    " - Other ways to improve on it is to fine-tine the training set, like using negation etc and also using co-reference resolution. The latter is useful as many of the pronouns like 'it', 'they'  have no identified targets in the subsequent sentences. They should similarly be mapped to the relevant entities and aspects."
   ]
  },
  {
   "cell_type": "markdown",
   "metadata": {},
   "source": [
    "### Exercise\n",
    "\n",
    "- Perform the same exercise on another set of data - this time for rows of the airline sentiment data in the previous exercise. What are the difficulties that you face? What aspects (and groups) do you consider in this case (heuristically)?"
   ]
  }
 ],
 "metadata": {
  "kernelspec": {
   "display_name": "Python 3",
   "language": "python",
   "name": "python3"
  },
  "language_info": {
   "codemirror_mode": {
    "name": "ipython",
    "version": 3
   },
   "file_extension": ".py",
   "mimetype": "text/x-python",
   "name": "python",
   "nbconvert_exporter": "python",
   "pygments_lexer": "ipython3",
   "version": "3.7.7"
  }
 },
 "nbformat": 4,
 "nbformat_minor": 2
}
